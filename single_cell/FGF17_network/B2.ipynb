{
 "cells": [
  {
   "cell_type": "code",
   "execution_count": 6,
   "id": "1259cef4",
   "metadata": {},
   "outputs": [],
   "source": [
    "# Ref\n",
    "### https://www.nature.com/articles/s41596-020-0336-2\n",
    "### https://scenic.aertslab.org/tutorials/\n",
    "### https://github.com/aertslab/SCENICprotocol/blob/master/notebooks/PBMC10k_SCENIC-protocol-CLI.ipynb\n",
    "\n",
    "# import dependencies\n",
    "#import os\n",
    "import numpy as np\n",
    "import pandas as pd\n",
    "import scanpy as sc\n",
    "import loompy as lp\n",
    "import sklearn\n",
    "import os\n",
    "#from MulticoreTSNE import MulticoreTSNE as TSNE\n",
    "\n",
    "import session_info\n",
    "session_info.show()\n",
    "\n",
    "#!~/.conda/envs/yuan2/bin/pyscenic\n",
    "\n",
    "\n",
    "\n",
    "# set a working directory\n",
    "wdir = \"network_FGF17/\"\n",
    "os.chdir( wdir )\n",
    "\n",
    "\n",
    "# # path to loom file with basic filtering applied (this will be created in the \"initial filtering\" step below). Optional.\n",
    "f_loom_path_scenic = wdir+\"B_SCENIC/output/filtered_scenic.loom\"\n",
    "output_adjaceny = wdir+\"B_SCENIC/output/adjacencies.csv\"\n",
    "output_regulon = wdir+\"B_SCENIC/output/regulons.csv\"\n",
    "output_auc_mtx = wdir+\"B_SCENIC/output/auc_mtx.csv\"\n",
    "THREADS=20"
   ]
  },
  {
   "cell_type": "code",
   "execution_count": null,
   "id": "72a82e30",
   "metadata": {},
   "outputs": [
    {
     "name": "stdout",
     "output_type": "stream",
     "text": [
      "\n",
      "2023-02-24 21:09:47,037 - pyscenic.cli.pyscenic - INFO - Loading expression matrix.\n",
      "\n",
      "2023-02-24 21:09:48,966 - pyscenic.cli.pyscenic - INFO - Inferring regulatory networks.\n",
      "/home/zjr863/.conda/envs/yuan2/lib/python3.8/site-packages/distributed/node.py:181: UserWarning: Port 8787 is already in use.\n",
      "Perhaps you already have a cluster running?\n",
      "Hosting the HTTP server on port 44885 instead\n",
      "  warnings.warn(\n",
      "preparing dask client\n",
      "parsing input\n",
      "creating dask graph\n",
      "20 partitions\n",
      "computing dask graph\n",
      "distributed.utils_perf - WARNING - full garbage collections took 13% CPU time recently (threshold: 10%)\n",
      "distributed.utils_perf - WARNING - full garbage collections took 13% CPU time recently (threshold: 10%)\n",
      "distributed.utils_perf - WARNING - full garbage collections took 13% CPU time recently (threshold: 10%)\n",
      "distributed.utils_perf - WARNING - full garbage collections took 13% CPU time recently (threshold: 10%)\n",
      "distributed.utils_perf - WARNING - full garbage collections took 13% CPU time recently (threshold: 10%)\n"
     ]
    }
   ],
   "source": [
    "\n",
    "# 1. SCENIC analysis: predict activated regulons\n",
    "\n",
    "### 1. Gene regulatory network inference and generation of co-expressiom modules from expression matrix\n",
    "\n",
    "# Phase Ia GRN inference using the GRNBoost2 algorithm\n",
    "\n",
    "#For this step the CLI version of SCENIC is used. This step can be deployed on an High performance computing system. We use the counts matrix (without log transformation or further processing) from the loom file we wrote earier. OUTPUT: list of adjancencies between a TF and its targets stored in ADACENCIES_FNAME\n",
    "\n",
    "# transcription factors list\n",
    "f_tfs = \"hs_hgnc_curated_tfs.txt\" # human\n",
    "# f_tfs = \"/ddn1/vol1/staging/leuven/stg_00002/lcb/cflerin/resources/allTFs_dmel.txt\" # drosophila\n",
    "# f_tfs = \"/ddn1/vol1/staging/leuven/stg_00002/lcb/cflerin/resources/allTFs_mm.txt\"   # mouse\n",
    "# tf_names = load_tf_names( f_tfs )\n",
    "\n",
    "# f_loom_path_scenic: This dataset has been filtered, but not processed\n",
    "!~/.conda/envs/yuan2/bin/pyscenic grn {f_loom_path_scenic} {f_tfs} -o {output_adjaceny} \\\n",
    "    --num_workers { THREADS }\n",
    "\n"
   ]
  },
  {
   "cell_type": "code",
   "execution_count": null,
   "id": "ae131ab0",
   "metadata": {},
   "outputs": [],
   "source": [
    "### 2. Regulon prediction aka cisTarget from CLI (Find enriched motifs for a gene signature and opitionally prune targets from this signature based on cis-regulatory cues)\n",
    "#For this step the CLI version of SCENIC is used. This step can be deployed on an High Performance Computing system.\n",
    "#Output: List of adjacencies between a TF and its targets stored in MOTIFS_FNAME\n",
    "import glob\n",
    "# ranking databases\n",
    "f_db_glob = \"pyscenicdata/*feather\"\n",
    "f_db_names = ' '.join( glob.glob(f_db_glob) )\n",
    "print(f_db_names)\n",
    "\n",
    "# motif databases (motifs of TFs)\n",
    "f_motif_path = \"pyscenicdata/motifs-v9-nr.hgnc-m0.001-o0.0.tbl\"\n",
    "\n",
    "#f_loom_path_scenic: this loom file is like counts.tsv\n",
    "!~/.conda/envs/yuan2/bin/pyscenic ctx {output_adjaceny} \\\n",
    "  {f_db_names} \\\n",
    "  --annotations_fname {f_motif_path} \\\n",
    "  --expression_mtx_fname {f_loom_path_scenic} \\\n",
    "  --mode \"dask_multiprocessing\" \\\n",
    "  --output {output_regulon} \\\n",
    "  --mask_dropouts \\\n",
    "  --num_workers { THREADS }\n",
    "#reg.csv: is the direct target output (regulon)\n",
    "#f_loom_path_scenic: This dataset has been filtered, but not processed"
   ]
  },
  {
   "cell_type": "code",
   "execution_count": null,
   "id": "40fd9e5a",
   "metadata": {},
   "outputs": [],
   "source": [
    "### 3. aucell: quantify activity of gene signatures/regulons across single cells\n",
    "#f_loom_path_scenic: this loom file is like counts.tsv\n",
    "!~/.conda/envs/yuan2/bin/pyscenic aucell \\\n",
    "  {f_loom_path_scenic} \\\n",
    "  {output_regulon} \\\n",
    "  --output {output_auc_mtx} \\\n",
    "  --num_workers { THREADS }\n",
    "  "
   ]
  },
  {
   "cell_type": "code",
   "execution_count": null,
   "id": "520a0da4",
   "metadata": {},
   "outputs": [],
   "source": [
    "import session_info\n",
    "session_info.show()"
   ]
  },
  {
   "cell_type": "code",
   "execution_count": null,
   "id": "0c30b28a",
   "metadata": {},
   "outputs": [],
   "source": []
  },
  {
   "cell_type": "code",
   "execution_count": null,
   "id": "5abff3ad",
   "metadata": {},
   "outputs": [],
   "source": []
  }
 ],
 "metadata": {
  "kernelspec": {
   "display_name": "Python3[conda env:yuan2]",
   "language": "python",
   "name": "yuan2"
  },
  "language_info": {
   "codemirror_mode": {
    "name": "ipython",
    "version": 3
   },
   "file_extension": ".py",
   "mimetype": "text/x-python",
   "name": "python",
   "nbconvert_exporter": "python",
   "pygments_lexer": "ipython3",
   "version": "3.8.5"
  }
 },
 "nbformat": 4,
 "nbformat_minor": 5
}
