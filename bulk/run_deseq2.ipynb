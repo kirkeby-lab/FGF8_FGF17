{
 "cells": [
  {
   "cell_type": "code",
   "execution_count": 10,
   "id": "28ce8337-0a60-43a0-8e7a-10edf80f6178",
   "metadata": {
    "vscode": {
     "languageId": "r"
    }
   },
   "outputs": [
    {
     "name": "stderr",
     "output_type": "stream",
     "text": [
      "========================================\n",
      "circlize version 0.4.15\n",
      "CRAN page: https://cran.r-project.org/package=circlize\n",
      "Github page: https://github.com/jokergoo/circlize\n",
      "Documentation: https://jokergoo.github.io/circlize_book/book/\n",
      "\n",
      "If you use it in published research, please cite:\n",
      "Gu, Z. circlize implements and enhances circular visualization\n",
      "  in R. Bioinformatics 2014.\n",
      "\n",
      "This message can be suppressed by:\n",
      "  suppressPackageStartupMessages(library(circlize))\n",
      "========================================\n",
      "\n",
      "\n"
     ]
    },
    {
     "data": {
      "text/plain": [
       "R version 4.3.1 (2023-06-16)\n",
       "Platform: x86_64-conda-linux-gnu (64-bit)\n",
       "Running under: Red Hat Enterprise Linux 8.9 (Ootpa)\n",
       "\n",
       "Matrix products: default\n",
       "BLAS/LAPACK: /maps/projects/dan1/people/bns631/.conda/envs/bulk_env/lib/libopenblasp-r0.3.23.so;  LAPACK version 3.11.0\n",
       "\n",
       "locale:\n",
       " [1] LC_CTYPE=en_GB.UTF-8       LC_NUMERIC=C              \n",
       " [3] LC_TIME=en_GB.UTF-8        LC_COLLATE=en_GB.UTF-8    \n",
       " [5] LC_MONETARY=en_GB.UTF-8    LC_MESSAGES=en_GB.UTF-8   \n",
       " [7] LC_PAPER=en_GB.UTF-8       LC_NAME=C                 \n",
       " [9] LC_ADDRESS=C               LC_TELEPHONE=C            \n",
       "[11] LC_MEASUREMENT=en_GB.UTF-8 LC_IDENTIFICATION=C       \n",
       "\n",
       "time zone: Europe/Copenhagen\n",
       "tzcode source: system (glibc)\n",
       "\n",
       "attached base packages:\n",
       "[1] stats4    stats     graphics  grDevices utils     datasets  methods  \n",
       "[8] base     \n",
       "\n",
       "other attached packages:\n",
       " [1] ggrepel_0.9.3               writexl_1.4.2              \n",
       " [3] circlize_0.4.15             RColorBrewer_1.1-3         \n",
       " [5] lubridate_1.9.2             forcats_1.0.0              \n",
       " [7] stringr_1.5.0               dplyr_1.1.3                \n",
       " [9] purrr_1.0.2                 readr_2.1.4                \n",
       "[11] tidyr_1.3.0                 tibble_3.2.1               \n",
       "[13] ggplot2_3.4.3               tidyverse_2.0.0            \n",
       "[15] DESeq2_1.40.2               SummarizedExperiment_1.30.2\n",
       "[17] Biobase_2.60.0              MatrixGenerics_1.12.2      \n",
       "[19] matrixStats_1.0.0           GenomicRanges_1.52.0       \n",
       "[21] GenomeInfoDb_1.36.1         IRanges_2.34.1             \n",
       "[23] S4Vectors_0.38.1            BiocGenerics_0.46.0        \n",
       "\n",
       "loaded via a namespace (and not attached):\n",
       " [1] shape_1.4.6             gtable_0.3.4            GlobalOptions_0.1.2    \n",
       " [4] lattice_0.21-8          tzdb_0.4.0              vctrs_0.6.3            \n",
       " [7] tools_4.3.1             bitops_1.0-7            generics_0.1.3         \n",
       "[10] parallel_4.3.1          fansi_1.0.4             pkgconfig_2.0.3        \n",
       "[13] Matrix_1.6-1            uuid_1.1-1              lifecycle_1.0.3        \n",
       "[16] GenomeInfoDbData_1.2.10 farver_2.1.1            compiler_4.3.1         \n",
       "[19] munsell_0.5.0           repr_1.1.6              codetools_0.2-19       \n",
       "[22] htmltools_0.5.6         RCurl_1.98-1.12         pillar_1.9.0           \n",
       "[25] crayon_1.5.2            BiocParallel_1.34.2     DelayedArray_0.26.6    \n",
       "[28] tidyselect_1.2.0        locfit_1.5-9.8          digest_0.6.33          \n",
       "[31] stringi_1.7.12          labeling_0.4.3          fastmap_1.1.1          \n",
       "[34] grid_4.3.1              colorspace_2.1-0        cli_3.6.1              \n",
       "[37] magrittr_2.0.3          S4Arrays_1.0.4          base64enc_0.1-3        \n",
       "[40] utf8_1.2.3              IRdisplay_1.1           withr_2.5.0            \n",
       "[43] scales_1.2.1            IRkernel_1.3.2          timechange_0.2.0       \n",
       "[46] XVector_0.40.0          pbdZMQ_0.3-9            hms_1.1.3              \n",
       "[49] evaluate_0.21           rlang_1.1.1             Rcpp_1.0.11            \n",
       "[52] glue_1.6.2              jsonlite_1.8.7          R6_2.5.1               \n",
       "[55] zlibbioc_1.46.0        "
      ]
     },
     "metadata": {},
     "output_type": "display_data"
    }
   ],
   "source": [
    "# load the library\n",
    "library(DESeq2)\n",
    "library(tidyverse)\n",
    "library(dplyr)\n",
    "library(ggplot2)\n",
    "library(RColorBrewer)\n",
    "library(circlize)\n",
    "library(\"writexl\")\n",
    "library(ggrepel)\n",
    "sessionInfo()"
   ]
  },
  {
   "cell_type": "code",
   "execution_count": null,
   "id": "b640d00a-2fc3-406f-8ea6-c705c3ef978a",
   "metadata": {
    "vscode": {
     "languageId": "r"
    }
   },
   "outputs": [],
   "source": [
    "# Read and prepare the count data\n",
    "rawCounts <- read.delim(\"salmon.merged.gene_counts.tsv\")\n",
    "rownames(rawCounts) <- rawCounts$gene_name\n",
    "rawCounts$gene_id <- NULL\n",
    "rawCounts$gene_name <- NULL\n",
    "rawCounts <- rawCounts %>% mutate_if(is.double, as.integer)\n",
    "head(rawCounts)"
   ]
  },
  {
   "cell_type": "code",
   "execution_count": null,
   "id": "12e84c08-72d2-4a24-93ac-8d5daceafb29",
   "metadata": {
    "vscode": {
     "languageId": "r"
    }
   },
   "outputs": [],
   "source": [
    "# Create the sample dataframe\n",
    "sample <- colnames(rawCounts)\n",
    "condition <- rep()\n",
    "time <- rep()\n",
    "condition_time <- rep()\n",
    "\n",
    "for(item in colnames(rawCounts)){\n",
    "    temp <- str_match(item, \"_\\\\s*(.*_?)\\\\s*_\")[,2]\n",
    "    condition_time <- append(condition_time, temp)\n",
    "    temp <- strsplit(temp,'_')[[1]]\n",
    "    condition <- append(condition,temp[1])\n",
    "    time <- append(time,temp[2])\n",
    "}\n",
    "\n",
    "sample_df <- data.frame(sample = sample, condition=condition, time=time, condition_time=condition_time)\n",
    "rownames(sample_df) <- sample_df$sample\n",
    "sample_df$sample <- NULL\n",
    "sample_df['condition'] <- lapply(sample_df['condition'] , factor)\n",
    "sample_df['time'] <- lapply(sample_df['time'] , factor)\n",
    "sample_df['condition_time'] <- lapply(sample_df['condition_time'] , factor)\n",
    "head(sample_df)"
   ]
  },
  {
   "cell_type": "code",
   "execution_count": 4,
   "id": "e5bcb4c2-fda8-4f57-b1ef-9885943c31d1",
   "metadata": {
    "vscode": {
     "languageId": "r"
    }
   },
   "outputs": [
    {
     "name": "stdout",
     "output_type": "stream",
     "text": [
      "[1] \"Count columns and sample dataframe rows are in the same order: TRUE\"\n"
     ]
    }
   ],
   "source": [
    "# Ensure that the sample dataframe and count matrix are ordered correctly\n",
    "print(paste0('Count columns and sample dataframe rows are in the same order: ' ,all(colnames(rawCounts) == rownames(sample_df))))"
   ]
  },
  {
   "cell_type": "code",
   "execution_count": null,
   "id": "327f9a0e-c3fa-4c11-9f96-e24f9da3116b",
   "metadata": {
    "vscode": {
     "languageId": "r"
    }
   },
   "outputs": [],
   "source": [
    "# Create deseq2 object by specifying the expreimential design\n",
    "# Here we are comparing FGF8 and FGF17 conditions in four different timepoints (15m, 1h, 4h, 24h). Each sample has three biological replicates\n",
    "dds <- DESeqDataSetFromMatrix(countData=rawCounts, colData=sample_df, design= ~condition + time + condition:time)\n",
    "\n",
    "# Filtering\n",
    "# Remove rows with low gene counts\n",
    "keep <- rowSums(counts(dds)) >= 50\n",
    "dds <- dds[keep,]\n",
    "\n",
    "# at least 3 samples with a count of 10 or higher\n",
    "keep <- rowSums(counts(dds) >= 10) >= 3\n",
    "dds <- dds[keep,]\n",
    "print(dds)\n",
    "\n",
    "# Performs normalization and estimates DE genes \n",
    "dds <- DESeq(dds)\n",
    "# Print the coefficents\n",
    "resultsNames(dds)"
   ]
  },
  {
   "cell_type": "code",
   "execution_count": 8,
   "id": "21e5b628-4172-4aee-a7b5-86823e7a2ed5",
   "metadata": {
    "vscode": {
     "languageId": "r"
    }
   },
   "outputs": [],
   "source": [
    "rlog_out = rlog(dds,blind=F)\n",
    "write.csv(assay(rlog_out), file=\"deseq2_output/norm_counts.csv\")"
   ]
  },
  {
   "cell_type": "code",
   "execution_count": null,
   "id": "4d15b8c9-09db-4fff-aff7-676f5d7ad4bd",
   "metadata": {
    "vscode": {
     "languageId": "r"
    }
   },
   "outputs": [],
   "source": [
    "#temp_dds <- dds\n",
    "temp_dds <- dds\n",
    "temp_dds$condition_time <- factor(temp_dds$condition_time, levels = c('FGF8_15m', 'FGF8_1h', 'FGF8_4h', 'FGF8_24h', 'FGF17_15m', 'FGF17_1h', 'FGF17_4h', 'FGF17_24h'))\n",
    "color_vec <- c(\"FGF8_15m\" = \"#FFA075\", \"FGF8_1h\"=\"#DC134C\", \"FGF8_4h\"=\"#FF0000\", \"FGF8_24h\" = \"#CD5C5C\", \"FGF17_15m\"=\"#B3E5FC\", \"FGF17_1h\"=\"#4FC3F7\", \"FGF17_4h\" = \"#039BE5\", \"FGF17_24h\"=\"#1520A6\")\n",
    "vsdata <- vst(temp_dds, blind=FALSE)\n",
    "pcaData <- plotPCA(vsdata, intgroup='condition_time', returnData=T)\n",
    "percentVar <- round(100*attr(pcaData, 'percentVar'))\n",
    "pcaplot <- ggplot(pcaData, aes(PC1, PC2, color = condition_time)) + geom_point(colour=\"black\", shape=21, size = 3, \n",
    "    aes(fill = factor(condition_time))) +\n",
    "    scale_fill_manual(values=color_vec, name='Sample') + \n",
    "    #scale_fill_discrete(limits = c('FGF8_15m', 'FGF8_1h', 'FGF8_4h', 'FGF8_24h', 'FGF17_15m', 'FGF17_1h', 'FGF17_4h', 'FGF17_24h')) +\n",
    "    #scale_colour_manual(values=color_vec)\n",
    "    xlab(paste0(\"PC1: \",percentVar[1],\"% variance\")) +\n",
    "    ylab(paste0(\"PC2: \",percentVar[2],\"% variance\")) + \n",
    "    coord_fixed()\n",
    "#plotPCA(vsdata, intgroup=c('FGF8_15m', 'FGF17_15m', 'FGF8_1h', 'FGF17_1h', 'FGF8_4h', 'FGF17_4h', 'FGF8_24h', 'FGF17_24h'))\n",
    "png(\"deseq2_output/pca_plot.png\",width = 265, height = 125, units='mm', res = 300)\n",
    "plot(1:10, 1:10, mar=c(3.5,0,3,0))\n",
    "print(pcaplot)\n",
    "dev.off()\n",
    "pcaplot"
   ]
  },
  {
   "cell_type": "code",
   "execution_count": 7,
   "id": "6734f9a6-0967-4580-bf2e-7f1287b59d62",
   "metadata": {
    "vscode": {
     "languageId": "r"
    }
   },
   "outputs": [],
   "source": [
    "# For each timepoint extracting the results to a dataframe\n",
    "\n",
    "# Getting the difference between conditions at timepoint 15m\n",
    "res_15m <- results(dds, name='condition_FGF8_vs_FGF17', alpha = 0.05, test='Wald')\n",
    "# Getting the difference between conditions the rest of the timepoints\n",
    "res_1h <- results(dds, contrast=list(c('condition_FGF8_vs_FGF17', 'conditionFGF8.time1h')), alpha = 0.05, test='Wald')\n",
    "res_4h <- results(dds, contrast=list(c('condition_FGF8_vs_FGF17', 'conditionFGF8.time4h')), alpha = 0.05, test='Wald')\n",
    "res_24h <- results(dds, contrast=list(c('condition_FGF8_vs_FGF17', 'conditionFGF8.time24h')), alpha = 0.05, test='Wald')"
   ]
  },
  {
   "cell_type": "code",
   "execution_count": 40,
   "id": "9a1b5ec1-bd6e-4e5a-b6f4-0169129e1ad5",
   "metadata": {
    "vscode": {
     "languageId": "r"
    }
   },
   "outputs": [],
   "source": [
    "# Order the deseq result dataframe and remove rows with NA values\n",
    "resOrder_15m <- res_15m[order(res_15m$padj),]\n",
    "resOrder_15m$sig <- ifelse(resOrder_15m$padj <= 0.05, T, F)\n",
    "resOrder_15m <- na.omit(resOrder_15m)\n",
    "write.csv(resOrder_15m, 'deseq2_output/results_15m.csv')\n",
    "\n",
    "resOrder_1h <- res_1h[order(res_1h$padj),]\n",
    "resOrder_1h$sig <- ifelse(resOrder_1h$padj <= 0.05, T, F)\n",
    "resOrder_1h <- na.omit(resOrder_1h)\n",
    "write.csv(resOrder_1h, 'deseq2_output/results_1h.csv')\n",
    "\n",
    "\n",
    "resOrder_4h <- res_4h[order(res_4h$padj),]\n",
    "resOrder_4h$sig <- ifelse(resOrder_4h$padj <= 0.05, T, F)\n",
    "resOrder_4h <- na.omit(resOrder_4h)\n",
    "write.csv(resOrder_4h, 'deseq2_output/results_4h.csv')\n",
    "\n",
    "\n",
    "resOrder_24h <- res_24h[order(res_24h$padj),]\n",
    "resOrder_24h$sig <- ifelse(resOrder_24h$padj <= 0.05, T, F)\n",
    "resOrder_24h <- na.omit(resOrder_24h)\n",
    "write.csv(resOrder_24h, 'deseq2_output/results_24h.csv')\n"
   ]
  },
  {
   "cell_type": "code",
   "execution_count": null,
   "id": "0a08ef57-b492-4f26-b501-1dfab42e6ac7",
   "metadata": {
    "vscode": {
     "languageId": "r"
    }
   },
   "outputs": [],
   "source": [
    "# Plotting DE genes at 1h\n",
    "res_1h <- read.csv('deseq2_output/results_1h.csv')\n",
    "res_1h <- res_1h %>% \n",
    "  mutate(\n",
    "    condition = case_when(log2FoldChange >= log(1.3) & padj <= 0.05 ~ \"FGF8\",\n",
    "                           log2FoldChange <= -log(1.3) & padj <= 0.05 ~ \"FGF17\",\n",
    "                           TRUE ~ \"not significant\")\n",
    "    )\n",
    "\n",
    "#apcdd1L,rax, wnt7a, fezf2, nkx2-1,fzd5,gdf7,cad2\n",
    "gene_l = c('ZFP36','EGR2', 'EGR3', 'EGR4', 'DUSP2','IER2','IER5','CENPVP1','FOSB','TRIB1','NR4A1',\n",
    "          'BTG2','SERTAD3','ARC')\n",
    "\n",
    "options(repr.plot.res = 600)\n",
    "p2 <- ggplot(res_1h, aes(log2FoldChange, -log(padj,10))) +\n",
    "  geom_point(aes(color = condition), size = 2/5) +\n",
    "  xlim(-23,3) +\n",
    "  ylim(0,9) +\n",
    "  xlab(expression(\"log\"[2]*\"FC\")) + \n",
    "  ylab(expression(\"-log\"[10]*\"FDR\")) +\n",
    "  scale_color_manual(values = c(\"dodgerblue3\", \"firebrick3\", \"gray50\")) +\n",
    "  guides(colour = guide_legend(override.aes = list(size=1.5))) \n",
    "\n",
    "top_genes <- res_1h[res_1h$X %in% gene_l, ] \n",
    "print(top_genes)\n",
    "\n",
    "p3 <-  p2 +\n",
    "  geom_text_repel(data = top_genes, min.segment.length=0,\n",
    "                   mapping = aes(log2FoldChange, -log(padj,10), label = X),\n",
    "                   size = 2) + ggtitle(\"1h FGF8 vs. FGF17\")\n",
    "ggsave(\"deseq2_output/updated_1h_volcano.pdf\", dpi=600)\n",
    "p3\n",
    "\n",
    "\n",
    "# Genes with positive log2FoldChange value are more expressed in FGF8 (up regulated) than in FGF17 samples\n",
    "# Genes with negative log2FoldChange values are more expressed in FGF17"
   ]
  },
  {
   "cell_type": "code",
   "execution_count": null,
   "id": "6d6e3d1f-5a2c-4b27-a0b1-17d6cc3d8218",
   "metadata": {
    "vscode": {
     "languageId": "r"
    }
   },
   "outputs": [],
   "source": []
  }
 ],
 "metadata": {
  "kernelspec": {
   "display_name": "R [conda env:.conda-bulk_env]",
   "language": "R",
   "name": "conda-env-.conda-bulk_env-r"
  },
  "language_info": {
   "codemirror_mode": "r",
   "file_extension": ".r",
   "mimetype": "text/x-r-source",
   "name": "R",
   "pygments_lexer": "r",
   "version": "4.3.1"
  }
 },
 "nbformat": 4,
 "nbformat_minor": 5
}
